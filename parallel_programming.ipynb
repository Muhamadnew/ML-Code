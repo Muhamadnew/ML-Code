{
 "cells": [
  {
   "cell_type": "markdown",
   "metadata": {},
   "source": [
    "Raed ..... Start"
   ]
  },
  {
   "cell_type": "code",
   "execution_count": null,
   "metadata": {},
   "outputs": [],
   "source": []
  },
  {
   "cell_type": "code",
   "execution_count": null,
   "metadata": {},
   "outputs": [],
   "source": []
  },
  {
   "cell_type": "code",
   "execution_count": null,
   "metadata": {},
   "outputs": [],
   "source": []
  },
  {
   "cell_type": "code",
   "execution_count": null,
   "metadata": {},
   "outputs": [],
   "source": []
  },
  {
   "cell_type": "code",
   "execution_count": null,
   "metadata": {},
   "outputs": [],
   "source": []
  },
  {
   "cell_type": "code",
   "execution_count": null,
   "metadata": {},
   "outputs": [],
   "source": []
  },
  {
   "cell_type": "markdown",
   "metadata": {},
   "source": [
    "Raed .... End"
   ]
  },
  {
   "cell_type": "code",
   "execution_count": null,
   "metadata": {},
   "outputs": [],
   "source": []
  },
  {
   "cell_type": "code",
   "execution_count": null,
   "metadata": {},
   "outputs": [],
   "source": []
  },
  {
   "cell_type": "code",
   "execution_count": 5,
   "metadata": {},
   "outputs": [],
   "source": [
    "'''\n",
    "run the below codes from command line (e.g. using your anaconda terminal)\n",
    "\n",
    "from ds8001_lab11_parallel_programming import run_parallel, run_parallel2, run_serial2\n",
    "\n",
    "# below codes can be run from command line to see \n",
    "run_serial()\n",
    "run_parallel()\n",
    "run_parallel2()\n",
    "run_serial2()\n",
    "'''\n",
    "\n",
    "import collections\n",
    "import multiprocessing\n",
    "# import time\n",
    "from datetime import datetime\n",
    "\n",
    "PROCESS_NUM = 4\n",
    "MAX_VALUE = 10**8 # used to do a large number of operations\n",
    "\n",
    "Scientist = collections.namedtuple('Scientist', ['name','born',])\n",
    "\n",
    "scientists = (\n",
    "    Scientist(name='Ada Lovelace', born=1815),\n",
    "    Scientist(name='Emmy Noether', born=1882),\n",
    "    Scientist(name='Marie Curie', born=1867),\n",
    "    Scientist(name='Tu Youyou', born=1930),\n",
    "    Scientist(name='Ada Yonath', born=1939),\n",
    "    Scientist(name='Vera Rubin', born=1928),\n",
    "    Scientist(name='Sally Ride', born=1951),\n",
    ")\n",
    "\n",
    "def process_item(item):\n",
    "    # time.sleep(5)\n",
    "\n",
    "    # put a challenging task to see several python instances running in the task manager\n",
    "    for i in range(MAX_VALUE):\n",
    "        True\n",
    "\n",
    "    # this is the main task, but a trivial one\n",
    "    return {\n",
    "        'name': item.name,\n",
    "        'age': 2017 - item.born\n",
    "    }\n",
    "\n",
    "def run_serial():\n",
    "    start = datetime.now()\n",
    "    ress = map(process_item, scientists)\n",
    "    for val in ress:\n",
    "        print(val)\n",
    "    print('sequential run time %s' %(datetime.now() - start).total_seconds())\n",
    "\n",
    "def run_parallel():\n",
    "\n",
    "    # check the task manager to see the processes\n",
    "    start = datetime.now()\n",
    "    pool = multiprocessing.Pool()\n",
    "    result = pool.map(process_item, scientists)\n",
    "\n",
    "    for val in result:\n",
    "        print(val)\n",
    "    print('parallel run time %s' %(datetime.now() - start).total_seconds())\n",
    "\n",
    "def f(pid, range_start, range_end):\n",
    "    sum_value = 0\n",
    "    for i in range(range_start, range_end+1):\n",
    "        sum_value += i\n",
    "        if i%10**7==0:\n",
    "            print('pid %s: %.0f%%'% (pid, (i-range_start)/(range_end-range_start)*100))\n",
    "    print(\"pid %s partial sum_value %s\" %(pid, sum_value))\n",
    "\n",
    "def run_parallel2():\n",
    "    \n",
    "    processes=[] # list of process objects\n",
    "    # use PROCESS_NUM threads\n",
    "    # target is the function to be run by the process\n",
    "    # args: function inputs\n",
    "    # divide the job between processors\n",
    "    start = datetime.now()\n",
    "    for i in range(PROCESS_NUM):\n",
    "        processes.append(\n",
    "            multiprocessing.Process(\n",
    "                target=f,\n",
    "                args=(i, int(i*MAX_VALUE/PROCESS_NUM), int((i+1)*MAX_VALUE/PROCESS_NUM) )\n",
    "            )\n",
    "    )\n",
    "\n",
    "    for p in processes:\n",
    "        p.start()\n",
    "\n",
    "    for p in processes:\n",
    "        p.join()\n",
    "\n",
    "    print('main thread done')\n",
    "    print('parallel2 run time %s' %(datetime.now() - start).total_seconds())\n",
    "\n",
    "def run_serial2():\n",
    "    start = datetime.now()\n",
    "    for i in range(PROCESS_NUM):\n",
    "        f(i, int(i*MAX_VALUE/PROCESS_NUM), int((i+1)*MAX_VALUE/PROCESS_NUM) )\n",
    "    print('sequential2 run time %s' %(datetime.now() - start).total_seconds())\n",
    "\n",
    "\n",
    "# run_serial2()\n"
   ]
  },
  {
   "cell_type": "code",
   "execution_count": null,
   "metadata": {},
   "outputs": [
    {
     "name": "stdout",
     "output_type": "stream",
     "text": [
      "{'name': 'Ada Lovelace', 'age': 202}\n",
      "{'name': 'Emmy Noether', 'age': 135}\n",
      "{'name': 'Marie Curie', 'age': 150}\n",
      "{'name': 'Tu Youyou', 'age': 87}\n",
      "{'name': 'Ada Yonath', 'age': 78}\n",
      "{'name': 'Vera Rubin', 'age': 89}\n",
      "{'name': 'Sally Ride', 'age': 66}\n",
      "sequential run time 8.075416\n"
     ]
    }
   ],
   "source": [
    "run_serial()\n",
    "run_parallel()\n",
    "run_parallel2()\n",
    "run_serial2()"
   ]
  },
  {
   "cell_type": "code",
   "execution_count": null,
   "metadata": {},
   "outputs": [],
   "source": []
  },
  {
   "cell_type": "code",
   "execution_count": null,
   "metadata": {},
   "outputs": [],
   "source": []
  },
  {
   "cell_type": "code",
   "execution_count": null,
   "metadata": {},
   "outputs": [],
   "source": []
  },
  {
   "cell_type": "code",
   "execution_count": null,
   "metadata": {},
   "outputs": [],
   "source": []
  }
 ],
 "metadata": {
  "kernelspec": {
   "display_name": "Python 3 (ipykernel)",
   "language": "python",
   "name": "python3"
  },
  "language_info": {
   "codemirror_mode": {
    "name": "ipython",
    "version": 3
   },
   "file_extension": ".py",
   "mimetype": "text/x-python",
   "name": "python",
   "nbconvert_exporter": "python",
   "pygments_lexer": "ipython3",
   "version": "3.9.7"
  },
  "latex_envs": {
   "LaTeX_envs_menu_present": true,
   "autoclose": false,
   "autocomplete": true,
   "bibliofile": "biblio.bib",
   "cite_by": "apalike",
   "current_citInitial": 1,
   "eqLabelWithNumbers": true,
   "eqNumInitial": 1,
   "hotkeys": {
    "equation": "Ctrl-E",
    "itemize": "Ctrl-I"
   },
   "labels_anchors": false,
   "latex_user_defs": false,
   "report_style_numbering": false,
   "user_envs_cfg": false
  },
  "toc": {
   "base_numbering": 1,
   "nav_menu": {},
   "number_sections": true,
   "sideBar": true,
   "skip_h1_title": false,
   "title_cell": "Table of Contents",
   "title_sidebar": "Contents",
   "toc_cell": false,
   "toc_position": {},
   "toc_section_display": true,
   "toc_window_display": false
  },
  "vscode": {
   "interpreter": {
    "hash": "41436783a21b52b878054a247ca0d3a389bf34f81c5598d0ecf92e6715f4dd38"
   }
  }
 },
 "nbformat": 4,
 "nbformat_minor": 4
}
