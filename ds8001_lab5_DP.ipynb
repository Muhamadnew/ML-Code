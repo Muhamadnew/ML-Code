{
 "cells": [
  {
   "source": [
    "# Weighted interval scheduling problem\n",
    "\n",
    "For any given instance (in a pandas dataframe format - see below)\n",
    "\n",
    "1. (Method 1) Implement earliest finish time first algorithm\n",
    "2. (Method 2) Implement Dynamic Programming (DP) algorithm\n",
    "\n",
    "For 5 different randomly created instances (i.e. create five different sched_items), compare the obtained solutions from Method 1 and Method 2 (only comparing total weight of the scheduled items will be sufficient)"
   ],
   "cell_type": "markdown",
   "metadata": {}
  },
  {
   "cell_type": "code",
   "execution_count": 8,
   "metadata": {},
   "outputs": [
    {
     "output_type": "execute_result",
     "data": {
      "text/plain": [
       "   start_time  end_time  weight\n",
       "a           0         6       3\n",
       "b           1         4       8\n",
       "c           3         5       5\n",
       "d           3         8      14\n",
       "e           4         7       7\n",
       "f           5         9       3\n",
       "g           6        10      10\n",
       "h           8        11       2"
      ],
      "text/html": "<div>\n<style scoped>\n    .dataframe tbody tr th:only-of-type {\n        vertical-align: middle;\n    }\n\n    .dataframe tbody tr th {\n        vertical-align: top;\n    }\n\n    .dataframe thead th {\n        text-align: right;\n    }\n</style>\n<table border=\"1\" class=\"dataframe\">\n  <thead>\n    <tr style=\"text-align: right;\">\n      <th></th>\n      <th>start_time</th>\n      <th>end_time</th>\n      <th>weight</th>\n    </tr>\n  </thead>\n  <tbody>\n    <tr>\n      <th>a</th>\n      <td>0</td>\n      <td>6</td>\n      <td>3</td>\n    </tr>\n    <tr>\n      <th>b</th>\n      <td>1</td>\n      <td>4</td>\n      <td>8</td>\n    </tr>\n    <tr>\n      <th>c</th>\n      <td>3</td>\n      <td>5</td>\n      <td>5</td>\n    </tr>\n    <tr>\n      <th>d</th>\n      <td>3</td>\n      <td>8</td>\n      <td>14</td>\n    </tr>\n    <tr>\n      <th>e</th>\n      <td>4</td>\n      <td>7</td>\n      <td>7</td>\n    </tr>\n    <tr>\n      <th>f</th>\n      <td>5</td>\n      <td>9</td>\n      <td>3</td>\n    </tr>\n    <tr>\n      <th>g</th>\n      <td>6</td>\n      <td>10</td>\n      <td>10</td>\n    </tr>\n    <tr>\n      <th>h</th>\n      <td>8</td>\n      <td>11</td>\n      <td>2</td>\n    </tr>\n  </tbody>\n</table>\n</div>"
     },
     "metadata": {},
     "execution_count": 8
    }
   ],
   "source": [
    "import random\n",
    "import numpy as np\n",
    "import pandas as pd\n",
    "\n",
    "sched_items = pd.DataFrame(index = [\"a\", \"b\", \"c\", \"d\", \"e\", \"f\", \"g\", \"h\"])\n",
    "sched_items[\"start_time\"] = [0, 1, 3, 3, 4, 5, 6, 8]\n",
    "sched_items[\"end_time\"] = [6, 4, 5, 8, 7, 9, 10, 11]\n",
    "sched_items[\"weight\"] = [3, 8, 5, 14, 7, 3, 10, 2]\n",
    "\n",
    "sched_items"
   ]
  },
  {
   "cell_type": "code",
   "execution_count": 10,
   "metadata": {},
   "outputs": [],
   "source": [
    "def greedy_WISP(gdfItems):\n",
    "    '''\n",
    "    For a given a dataframe that holds the information on the items, \n",
    "    return total weight of the the scheduled items and the id's of the \n",
    "    items that are scheduled (as a list) using earliest finish time first algorithm\n",
    "    '''\n",
    "    \n",
    "    return 0, []"
   ]
  },
  {
   "cell_type": "code",
   "execution_count": 11,
   "metadata": {},
   "outputs": [],
   "source": [
    "def DP_WISP(gdfItems):\n",
    "    '''\n",
    "    For a given a dataframe that holds the information on the items, \n",
    "    return total weight of the the scheduled items and the id's of the \n",
    "    items that are scheduled (as a list) using a DP algorithm\n",
    "    '''\n",
    "    \n",
    "    return 0, []"
   ]
  },
  {
   "source": [
    "# Knapsack problem\n",
    "\n",
    "For any given instance (in a pandas dataframe format - see below)\n",
    "\n",
    "1. (Method 1) Implement greedy-by-ratio algorithm (stop adding items once the Knapsack is full)\n",
    "2. (Method 2) Implement Dynamic Programming (DP) algorithm\n",
    "\n",
    "For 5 different randomly created instances (i.e. create five different knapsack_items), compare the obtained solutions from Method 1 and Method 2 (only comparing total value of the items included in the kanpsack will be sufficient)"
   ],
   "cell_type": "markdown",
   "metadata": {}
  },
  {
   "cell_type": "code",
   "execution_count": 9,
   "metadata": {},
   "outputs": [
    {
     "output_type": "execute_result",
     "data": {
      "text/plain": [
       "   weight  value\n",
       "1       1      1\n",
       "2       2      6\n",
       "3       5     18\n",
       "4       6     22\n",
       "5       7     28"
      ],
      "text/html": "<div>\n<style scoped>\n    .dataframe tbody tr th:only-of-type {\n        vertical-align: middle;\n    }\n\n    .dataframe tbody tr th {\n        vertical-align: top;\n    }\n\n    .dataframe thead th {\n        text-align: right;\n    }\n</style>\n<table border=\"1\" class=\"dataframe\">\n  <thead>\n    <tr style=\"text-align: right;\">\n      <th></th>\n      <th>weight</th>\n      <th>value</th>\n    </tr>\n  </thead>\n  <tbody>\n    <tr>\n      <th>1</th>\n      <td>1</td>\n      <td>1</td>\n    </tr>\n    <tr>\n      <th>2</th>\n      <td>2</td>\n      <td>6</td>\n    </tr>\n    <tr>\n      <th>3</th>\n      <td>5</td>\n      <td>18</td>\n    </tr>\n    <tr>\n      <th>4</th>\n      <td>6</td>\n      <td>22</td>\n    </tr>\n    <tr>\n      <th>5</th>\n      <td>7</td>\n      <td>28</td>\n    </tr>\n  </tbody>\n</table>\n</div>"
     },
     "metadata": {},
     "execution_count": 9
    }
   ],
   "source": [
    "import random\n",
    "import numpy as np\n",
    "import pandas as pd\n",
    "\n",
    "\n",
    "W = 11\n",
    "\n",
    "knapsack_items = pd.DataFrame(index = [1,2,3,4,5])\n",
    "knapsack_items[\"weight\"] = [1, 2, 5, 6, 7]\n",
    "knapsack_items[\"value\"] = [1, 6, 18, 22, 28]\n",
    "\n",
    "knapsack_items"
   ]
  },
  {
   "cell_type": "code",
   "execution_count": 12,
   "metadata": {},
   "outputs": [],
   "source": [
    "def greedy_knapsack(gdfItems):\n",
    "    '''\n",
    "    For a given a dataframe that holds the information on the items, \n",
    "    return total value of the the items and the id's of the \n",
    "    items (as a list) using greedy-by-ratio algo\n",
    "    '''\n",
    "    \n",
    "    return 0, []"
   ]
  },
  {
   "cell_type": "code",
   "execution_count": 13,
   "metadata": {},
   "outputs": [],
   "source": [
    "def DP_knapsack(gdfItems):\n",
    "    '''\n",
    "    For a given a dataframe that holds the information on the items, \n",
    "    return total value of the the items and the id's of the \n",
    "    items (as a list) using a DP algo\n",
    "    '''\n",
    "    \n",
    "    return 0, []"
   ]
  },
  {
   "cell_type": "code",
   "execution_count": null,
   "metadata": {},
   "outputs": [],
   "source": []
  }
 ],
 "metadata": {
  "kernelspec": {
   "display_name": "Python (envp36)",
   "language": "python",
   "name": "envp36"
  },
  "language_info": {
   "codemirror_mode": {
    "name": "ipython",
    "version": 3
   },
   "file_extension": ".py",
   "mimetype": "text/x-python",
   "name": "python",
   "nbconvert_exporter": "python",
   "pygments_lexer": "ipython3",
   "version": "3.6.10-final"
  },
  "latex_envs": {
   "LaTeX_envs_menu_present": true,
   "autoclose": false,
   "autocomplete": true,
   "bibliofile": "biblio.bib",
   "cite_by": "apalike",
   "current_citInitial": 1,
   "eqLabelWithNumbers": true,
   "eqNumInitial": 1,
   "hotkeys": {
    "equation": "Ctrl-E",
    "itemize": "Ctrl-I"
   },
   "labels_anchors": false,
   "latex_user_defs": false,
   "report_style_numbering": false,
   "user_envs_cfg": false
  },
  "toc": {
   "base_numbering": 1,
   "nav_menu": {},
   "number_sections": true,
   "sideBar": true,
   "skip_h1_title": false,
   "title_cell": "Table of Contents",
   "title_sidebar": "Contents",
   "toc_cell": false,
   "toc_position": {},
   "toc_section_display": true,
   "toc_window_display": false
  }
 },
 "nbformat": 4,
 "nbformat_minor": 4
}